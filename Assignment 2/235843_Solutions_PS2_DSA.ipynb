{
 "cells": [
  {
   "cell_type": "markdown",
   "id": "7e0d28d9-14f8-42de-b563-45c89c3e3675",
   "metadata": {},
   "source": [
    "# Problem Set 2 - Data Structures & Algorithms\n",
    "### 13/02/2024\n",
    "### Aditya Narayan Rai - 235843"
   ]
  },
  {
   "cell_type": "markdown",
   "id": "a5aff463-ef88-4da4-86c2-3c28e7f5f51d",
   "metadata": {},
   "source": [
    "**Question 1:** The main task in this problem set is to create an extension for the calculator flask app from lab 3. In addition to the basic calculator that we created in the lab, this extension should have a page on which a user can calculate the perimeter of a circle by inputting the radius.\n",
    "\n",
    "For the calculation of the radius, you should create a $Circle$ class, with one method to calculate the perimeter and one method to calaculate the area of the circle. You should write one unit test for each of these methods. To make this task easier, start by cloning this repository: https://github.com/lenafm/calculator_app to begin with a working version of the calculator app from the lab.\n",
    "\n",
    "You will submit your code as a 'Pull Request' to the repository https://github.com/lenafm/calculator_app. We will then check whether your tests do what they are supposed to. Please provide a link to the 'Pull Request' in the document you submit on Moodle (along with your answers to questions 2 and 3).\n",
    "\n",
    "For full marks you should:\n",
    "\n",
    "- (4 points) Write the $Circle$ class (with the perimeter and area methods) in a separate python module (like helper.py, in the repository) called $circle.py$ and import it into the main flask module.\n",
    "- (4 points) Create a template similar to the $calculator.html$ template, with an HTML form in which the user can input the radius, and render this template from the main module\n",
    "- (4 points) Create a $test$_$circle.py$ file in the root directory, which tests the two methods in the $circle.py$ module"
   ]
  },
  {
   "cell_type": "markdown",
   "id": "84e33c58-8edf-4d0c-8483-723ee6b3c284",
   "metadata": {},
   "source": [
    "**Solution 1**: This is the Pull Request link from GitHub: https://github.com/lenafm/calculator_app/pull/14"
   ]
  },
  {
   "cell_type": "markdown",
   "id": "d98b168d-7df0-49f8-8a79-357f1764b9cb",
   "metadata": {},
   "source": [
    "**Question 2:** (1 point) Examine the following code:\n",
    "\n",
    "    def check_array(input):\n",
    "        for idx in range (len(input)):\n",
    "            if input[idx][0] == \"1\":\n",
    "                input[idx] = None\n",
    "        return input\n",
    "\n",
    "    original_array = [\"1_3\", \"5_2\"]\n",
    "\n",
    "    new_array = check_array(original_array)\n",
    "\n",
    "    print(original_array)\n",
    "    print(new_array)\n",
    "\n",
    "What does it output? Why? Use the language we developed in lecture 3, page 30-32 (about pointers)."
   ]
  },
  {
   "cell_type": "markdown",
   "id": "7a266828-bc5f-4cd6-84cb-2fd803f82560",
   "metadata": {},
   "source": [
    "**Solution 2:**"
   ]
  },
  {
   "cell_type": "code",
   "execution_count": 1,
   "id": "ef079353-92e3-4b58-b103-1db987251d02",
   "metadata": {},
   "outputs": [
    {
     "name": "stdout",
     "output_type": "stream",
     "text": [
      "[None, '5_2']\n",
      "[None, '5_2']\n"
     ]
    }
   ],
   "source": [
    "def check_array(input):\n",
    "    for idx in range (len(input)):\n",
    "        if input[idx][0] == \"1\":\n",
    "            input[idx] = None\n",
    "    return input\n",
    "\n",
    "original_array = [\"1_3\", \"5_2\"]\n",
    "\n",
    "new_array = check_array(original_array)\n",
    "\n",
    "print(original_array)\n",
    "print(new_array)"
   ]
  },
  {
   "cell_type": "markdown",
   "id": "90459fd8-e64e-4cfd-b0c8-980164dcdce0",
   "metadata": {},
   "source": [
    "**Explanation:** Here we are defining a function **'check_array'** which takes a list **'input'** as an argument and iterates over it. Then, for each element in the list, it checks if the first character of the element is **'1'** and if the condition is true, it sets the element at that index to **'None'**. The function then returns the modified list. Once the function has been defined, it is being tested on a list named **'original_array'** and the result is being assigned to a new list named **'new_array'**. The results for both the lists is the same.\n",
    "\n",
    "The key point to note here is that when a list is created in Python, Python allocates memory for it and assigns a pointer to this memory block to the variable holding the list. And, upon passing the list to a function, Python doesn't create a new list or memory allocation but it passes the reference to the same memory location. Therefore, any changes made to the list within the function affect the original list because both the original variable and the function point to the same list in memory."
   ]
  },
  {
   "cell_type": "markdown",
   "id": "9310658a-b414-4fde-b3c8-99cd63c3a71d",
   "metadata": {},
   "source": [
    "**Question 3:** (2 points) Consider the following algorithm:\n",
    "\n",
    "    max_sum = None\n",
    "    for i in range(len(array)):\n",
    "        sum_subarray = 0\n",
    "        for j in range (i, len(array)):\n",
    "            sum_subarray += array[j]\n",
    "            if max_sum is None or max_sum < sum_subarray:\n",
    "                max_sum = sum_subarray\n",
    "    print(max_sum)\n",
    "\n",
    "This algorithm takes an array (assumed to be non-empty) named $array$ and find the subarray (contiguous elements of that array of any size) with the largest sum and outputs that sum. \n",
    "\n",
    "Is the algorithm defined above \"efficient\" in the sense we defined in lecture 5(slide 30)? That is, is its runtime polynomial in the size of the array? If not, explain why not. If it is, give its runtime in Big-O notation with the smallest $ d $ such that $ O(n^d) $ is true."
   ]
  },
  {
   "cell_type": "markdown",
   "id": "67490a05-d3c9-4e43-95a1-ce256a670855",
   "metadata": {},
   "source": [
    "**Solution 3:**"
   ]
  },
  {
   "cell_type": "markdown",
   "id": "b26fbbe1-ce2f-4650-a0cc-bf4b4f4554d6",
   "metadata": {},
   "source": [
    "**Explanation:** From the slides, an algorithm is considered 'efficient' if its runtime is polynomial in the size of the input. Now let's check if the given algorithm fits this criteria:\n",
    "\n",
    "The algorithm has a nested loop structure with the outer loop running once for each element in the array and for each iteration of the outer loop, the inner loop runs through the remaining elements to calculate the subarray sums. What happens here is this: Begin with the first item and consider it alone as a group. Then, we add the next item to this group, evaluating the new group's total value. We keep adding the next item in the set to the group assessing each new group's total value until we have considered a group that includes every item from the starting point to the end of the set. After we have considered all possible groups starting from the first item, we move to the second item and repeat the entire process starting from the second item. We do this until we have considered groups starting from every item in the set. In the meantime, while we are creating the groups we are also noting down the group with the highest total value and as and when we find a group with a total value higher than any we have seen before we make a note of it and store it.\n",
    "\n",
    "Therefore, since the outer loop runs once for each element in the array, it iterates $ n $ times. And, since the inner loop iterates over the remaining elements in the array for each iteration of the outer loop, it is equivalent to $n$, $n-1$, $n-2$, ..., $1$. And, therefore the total number of operations can be estimated as the sum of the first $'n'$ natural numbers which is $\\frac{n(n+1)}{2}$. Therefore, in terms of Big-O notation, the runtime of this algorithm is polynoimal: $O(n^2)$. And, since the runtime is polynomial this algorithm can be considered as 'efficient'."
   ]
  },
  {
   "cell_type": "markdown",
   "id": "44bf6b61-238f-407a-adb5-7baf00545e81",
   "metadata": {},
   "source": [
    "Now let's run and check the algorithm for a made-up array:"
   ]
  },
  {
   "cell_type": "code",
   "execution_count": 2,
   "id": "043294e5-abfa-4c1a-8567-720133d28021",
   "metadata": {},
   "outputs": [
    {
     "name": "stdout",
     "output_type": "stream",
     "text": [
      "15\n"
     ]
    }
   ],
   "source": [
    "array = [-2, -4, 6, -3, 4, 7, 0, 1]\n",
    "max_sum = None\n",
    "for i in range(len(array)):\n",
    "    sum_subarray = 0\n",
    "    for j in range (i, len(array)):\n",
    "        sum_subarray += array[j]\n",
    "        if max_sum is None or max_sum < sum_subarray:\n",
    "            max_sum = sum_subarray\n",
    "print(max_sum)"
   ]
  },
  {
   "cell_type": "markdown",
   "id": "8ce53071-cbb8-4f9c-ab54-15cecf78b97b",
   "metadata": {},
   "source": [
    "*Note to the Professor: For the first and last questions, I used ChatGPT and Stackoverflow to understand and implement some parts of the solution.*"
   ]
  }
 ],
 "metadata": {
  "kernelspec": {
   "display_name": "Python 3 (ipykernel)",
   "language": "python",
   "name": "python3"
  },
  "language_info": {
   "codemirror_mode": {
    "name": "ipython",
    "version": 3
   },
   "file_extension": ".py",
   "mimetype": "text/x-python",
   "name": "python",
   "nbconvert_exporter": "python",
   "pygments_lexer": "ipython3",
   "version": "3.12.1"
  }
 },
 "nbformat": 4,
 "nbformat_minor": 5
}
