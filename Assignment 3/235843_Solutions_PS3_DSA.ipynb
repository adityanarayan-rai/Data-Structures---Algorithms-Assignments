{
 "cells": [
  {
   "cell_type": "markdown",
   "id": "a693c52c-af1e-467a-a6d4-cceda4fdbdbf",
   "metadata": {},
   "source": [
    "## Problem Set 3: Data Structures and Algorithms\n",
    "### 22/04/2024\n",
    "### Aditya Narayan Rai - 235843"
   ]
  },
  {
   "cell_type": "markdown",
   "id": "86a19c8b-f1ab-4e29-9252-62c47b445361",
   "metadata": {},
   "source": [
    "**Question 1:** Write a function which uses numpy to multiply two matrices together. This isn't a trick question: it should just be a one line function."
   ]
  },
  {
   "cell_type": "markdown",
   "id": "d38b18bd-859b-467b-84ce-5c9c7cc3cb7c",
   "metadata": {},
   "source": [
    "**Solution:**"
   ]
  },
  {
   "cell_type": "code",
   "execution_count": 1,
   "id": "5e90953e-36de-426c-b740-3981e22b713e",
   "metadata": {},
   "outputs": [],
   "source": [
    "# Let's import all the packages we are going to use \n",
    "import numpy as np\n",
    "import math\n",
    "import timeit\n",
    "import matplotlib.pyplot as plt"
   ]
  },
  {
   "cell_type": "code",
   "execution_count": 2,
   "id": "9a9e9404-5ec9-4df8-82ae-d3f64c0482e4",
   "metadata": {},
   "outputs": [],
   "source": [
    "# Let's define the multiplication function\n",
    "def multiply_matrices(A, B):\n",
    "    return np.dot(A, B)"
   ]
  },
  {
   "cell_type": "markdown",
   "id": "f2ff1aca-4b38-47da-a417-f4715343d1ec",
   "metadata": {},
   "source": [
    "**Question 2:** Write a function to do matrix multiplication for a 2 x 2 matrix. You can implement this to use the \"grade school\" algorithm. That is, to find  $ C = AB $, just directly write out math for $ C_{ij} = A_{i1} B_{1j} + A_{i2} B_{2j} $. (This is just a direct application of the definition of matrix multiplication.)"
   ]
  },
  {
   "cell_type": "markdown",
   "id": "171cd101-7d73-4f9f-81e3-9843d4d3e07c",
   "metadata": {},
   "source": [
    "**Solution:**"
   ]
  },
  {
   "cell_type": "code",
   "execution_count": 3,
   "id": "e869c9cf-2b8f-4293-ba4e-a2bc40375ab1",
   "metadata": {},
   "outputs": [],
   "source": [
    "def matrix_multiply_2_2(A, B):\n",
    "    # Let's initialize the resulting matrix C\n",
    "    C = [[0, 0],\n",
    "         [0, 0]]\n",
    "    \n",
    "    # And then, compute each element of the resulting matrix C\n",
    "    for i in range(2):\n",
    "        for j in range(2):\n",
    "            C[i][j] = A[i][0] * B[0][j] + A[i][1] * B[1][j]\n",
    "    \n",
    "    return C"
   ]
  },
  {
   "cell_type": "markdown",
   "id": "9e7c6034-aff7-4022-9ae9-4ad414bd1fed",
   "metadata": {},
   "source": [
    "**Example Usage of the above Function:**"
   ]
  },
  {
   "cell_type": "code",
   "execution_count": 4,
   "id": "6038df83-1882-4905-81c5-06d6153e334b",
   "metadata": {},
   "outputs": [
    {
     "name": "stdout",
     "output_type": "stream",
     "text": [
      "Result of matrix multiplication:\n",
      "[19, 22]\n",
      "[43, 50]\n"
     ]
    }
   ],
   "source": [
    "# Let's define two matrices\n",
    "A = [[1, 2],\n",
    "     [3, 4]]\n",
    "\n",
    "B = [[5, 6],\n",
    "     [7, 8]]\n",
    "\n",
    "# Let's use the function\n",
    "result = matrix_multiply_2_2(A, B)\n",
    "\n",
    "# And, print the resulting matrix\n",
    "print(\"Result of matrix multiplication:\")\n",
    "for row in result:\n",
    "    print(row)"
   ]
  },
  {
   "cell_type": "markdown",
   "id": "c3702467-b6cf-4c21-89d5-10f43876b7f9",
   "metadata": {},
   "source": [
    "**Question 3:** Write a function implementing Strassen's algorithm to multiply two matrices together. This was written in pseudo-code on page 48 of Lecture 8. You shouldn't ever have to calculate a matrix product using numpy (but feel free to add and subtract matrices using standard numpy syntax). The base case is the fucntion you wrote for the previous question. Your implementation should have the following elements:\n",
    "\n",
    "- It should throw an exception if any dimension of the matrix is not a power of two, if either matrix is not square, and if they are not compatible sizes.\n",
    "- A base case (when n = 2) that just performs a simple matrix multiplication using your function from question (2).\n",
    "- Division of the problem into seven different sub-problems, each of which is a matrix multiplication, defined as we did in class. These will require recursive calls of function!\n",
    "- Combination of the sub-problem solutions together into a solution for the full problem."
   ]
  },
  {
   "cell_type": "markdown",
   "id": "77816777-29ae-4a0b-83d6-d01a6dbb9307",
   "metadata": {},
   "source": [
    "**Solution:**"
   ]
  },
  {
   "cell_type": "code",
   "execution_count": 5,
   "id": "0ab5261d-c6c0-471b-9e86-6ac99bcacf5e",
   "metadata": {},
   "outputs": [],
   "source": [
    "def matrix_multiply_2_2(A, B):\n",
    "    # Let's initialize the resulting matrix C\n",
    "    C = [[0, 0],\n",
    "         [0, 0]]\n",
    "    \n",
    "    # Compute each element of the resulting matrix C\n",
    "    for i in range(2):\n",
    "        for j in range(2):\n",
    "            C[i][j] = A[i][0] * B[0][j] + A[i][1] * B[1][j]\n",
    "    \n",
    "    return C\n",
    "\n",
    "def check_dimension(matrix):\n",
    "    # Check if matrix is square\n",
    "    n = len(matrix)\n",
    "    for row in matrix:\n",
    "        if len(row) != n:\n",
    "            raise ValueError(\"Matrix is not square.\")\n",
    "    \n",
    "    # Check if dimensions are powers of two\n",
    "    if n & (n - 1) != 0:\n",
    "        raise ValueError(\"Matrix dimension is not a power of two.\")\n",
    "\n",
    "def strassen_multiply(A, B):\n",
    "    # Check if matrices are compatible for multiplication\n",
    "    if len(A) != len(B) or len(A[0]) != len(B[0]) or len(A) != len(A[0]):\n",
    "        raise ValueError(\"Matrices are not compatible sizes for multiplication.\")\n",
    "    \n",
    "    # Check if dimensions are powers of two\n",
    "    check_dimension(A)\n",
    "    check_dimension(B)\n",
    "    \n",
    "    n = len(A)\n",
    "    \n",
    "    # Base case\n",
    "    if n == 2:\n",
    "        return matrix_multiply_2_2(A, B)\n",
    "    \n",
    "    # Split matrices into quadrants\n",
    "    mid = n // 2\n",
    "    A11 = [row[:mid] for row in A[:mid]]\n",
    "    A12 = [row[mid:] for row in A[:mid]]\n",
    "    A21 = [row[:mid] for row in A[mid:]]\n",
    "    A22 = [row[mid:] for row in A[mid:]]\n",
    "    \n",
    "    B11 = [row[:mid] for row in B[:mid]]\n",
    "    B12 = [row[mid:] for row in B[:mid]]\n",
    "    B21 = [row[:mid] for row in B[mid:]]\n",
    "    B22 = [row[mid:] for row in B[mid:]]\n",
    "    \n",
    "    # Recursive calls\n",
    "    M1 = strassen_multiply(add_matrices(A11, A22), add_matrices(B11, B22))\n",
    "    M2 = strassen_multiply(add_matrices(A21, A22), B11)\n",
    "    M3 = strassen_multiply(A11, subtract_matrices(B12, B22))\n",
    "    M4 = strassen_multiply(A22, subtract_matrices(B21, B11))\n",
    "    M5 = strassen_multiply(add_matrices(A11, A12), B22)\n",
    "    M6 = strassen_multiply(subtract_matrices(A21, A11), add_matrices(B11, B12))\n",
    "    M7 = strassen_multiply(subtract_matrices(A12, A22), add_matrices(B21, B22))\n",
    "    \n",
    "    # Combine sub-problem solutions\n",
    "    C11 = add_matrices(subtract_matrices(add_matrices(M1, M4), M5), M7)\n",
    "    C12 = add_matrices(M3, M5)\n",
    "    C21 = add_matrices(M2, M4)\n",
    "    C22 = add_matrices(subtract_matrices(add_matrices(M1, M3), M2), M6)\n",
    "    \n",
    "    # Combine quadrants into resulting matrix\n",
    "    C = [[0] * n for _ in range(n)]\n",
    "    for i in range(mid):\n",
    "        for j in range(mid):\n",
    "            C[i][j] = C11[i][j]\n",
    "            C[i][j + mid] = C12[i][j]\n",
    "            C[i + mid][j] = C21[i][j]\n",
    "            C[i + mid][j + mid] = C22[i][j]\n",
    "    \n",
    "    return C\n",
    "\n",
    "def add_matrices(A, B):\n",
    "    return [[A[i][j] + B[i][j] for j in range(len(A))] for i in range(len(A))]\n",
    "\n",
    "def subtract_matrices(A, B):\n",
    "    return [[A[i][j] - B[i][j] for j in range(len(A))] for i in range(len(A))]\n"
   ]
  },
  {
   "cell_type": "markdown",
   "id": "4d07845c-77dd-43a0-a0d2-58faf5a600fa",
   "metadata": {},
   "source": [
    "**Question 4:** Show that your implementation of Strassen's algorithm gives the same result as numpy on four test matrices, of size 2 x 2, 4 x 4, 8 x 8, and 16 x 16. You don't need to write out these (potentially) large matrices by hand, you can create them randomly through, for example, $np.random.randint.$"
   ]
  },
  {
   "cell_type": "markdown",
   "id": "66e69df3-95b4-4c95-8d74-e474b42fdddc",
   "metadata": {},
   "source": [
    "**Solution:**"
   ]
  },
  {
   "cell_type": "code",
   "execution_count": 6,
   "id": "b0262c9d-207a-430a-95ec-686d120fc894",
   "metadata": {},
   "outputs": [
    {
     "name": "stdout",
     "output_type": "stream",
     "text": [
      "For size 2x2: Strassen's algorithm and NumPy produce the same result.\n",
      "For size 4x4: Strassen's algorithm and NumPy produce the same result.\n",
      "For size 8x8: Strassen's algorithm and NumPy produce the same result.\n",
      "For size 16x16: Strassen's algorithm and NumPy produce the same result.\n"
     ]
    }
   ],
   "source": [
    "# Let's write our test function\n",
    "def test_strassen_vs_numpy(size):\n",
    "    # Generate random matrices\n",
    "    A = np.random.randint(0, 10, size=(size, size))\n",
    "    B = np.random.randint(0, 10, size=(size, size))\n",
    "    \n",
    "    # Perform matrix multiplication using Strassen's algorithm\n",
    "    result_strassen = np.array(strassen_multiply(A.tolist(), B.tolist()))\n",
    "    \n",
    "    # Perform matrix multiplication using NumPy\n",
    "    result_numpy = np.matmul(A, B)\n",
    "    \n",
    "    # Check if results match\n",
    "    if np.array_equal(result_strassen, result_numpy):\n",
    "        print(f\"For size {size}x{size}: Strassen's algorithm and NumPy produce the same result.\")\n",
    "    else:\n",
    "        print(f\"For size {size}x{size}: Strassen's algorithm and NumPy produce different results.\")\n",
    "\n",
    "# Test with different sizes\n",
    "test_strassen_vs_numpy(2)\n",
    "test_strassen_vs_numpy(4)\n",
    "test_strassen_vs_numpy(8)\n",
    "test_strassen_vs_numpy(16)"
   ]
  },
  {
   "cell_type": "markdown",
   "id": "3cd788b8-c7dc-4b7d-91c3-28c1acc9cb1f",
   "metadata": {},
   "source": [
    "**Question 5:** Your final task is to measure the empirical performance of this algorithm you've written. For full points, you need the following components:\n",
    "\n",
    "- Estimate how long it takes to run your functions from question (1) and (3) across a variety of matrix sizes\n",
    "- Plot the runtime of each algorithm as a function of sample size\n",
    "- Use your chart to evaluate how the runtime of your implementation of Strassen's algorithm (and numpy's) grows as function of matrix size."
   ]
  },
  {
   "cell_type": "markdown",
   "id": "927cde0b-51f7-45d6-8bc7-88ffe022b000",
   "metadata": {},
   "source": [
    "**Solution:**"
   ]
  },
  {
   "cell_type": "code",
   "execution_count": 7,
   "id": "171623f7-7a95-49cc-b2a2-0badebaee8a2",
   "metadata": {},
   "outputs": [
    {
     "name": "stdout",
     "output_type": "stream",
     "text": [
      "Matrix Size: 2 x 2\n",
      "NumPy Multiplication Time: 0.000101 seconds\n",
      "Strassen's Algorithm Time: 0.000063 seconds\n",
      "\n",
      "Matrix Size: 4 x 4\n",
      "NumPy Multiplication Time: 0.000027 seconds\n",
      "Strassen's Algorithm Time: 0.000333 seconds\n",
      "\n",
      "Matrix Size: 8 x 8\n",
      "NumPy Multiplication Time: 0.000036 seconds\n",
      "Strassen's Algorithm Time: 0.001086 seconds\n",
      "\n",
      "Matrix Size: 16 x 16\n",
      "NumPy Multiplication Time: 0.000036 seconds\n",
      "Strassen's Algorithm Time: 0.009378 seconds\n",
      "\n",
      "Matrix Size: 32 x 32\n",
      "NumPy Multiplication Time: 0.000055 seconds\n",
      "Strassen's Algorithm Time: 0.101300 seconds\n",
      "\n",
      "Matrix Size: 64 x 64\n",
      "NumPy Multiplication Time: 0.000125 seconds\n",
      "Strassen's Algorithm Time: 0.489765 seconds\n",
      "\n",
      "Matrix Size: 128 x 128\n",
      "NumPy Multiplication Time: 0.000616 seconds\n",
      "Strassen's Algorithm Time: 2.914387 seconds\n",
      "\n",
      "Matrix Size: 256 x 256\n",
      "NumPy Multiplication Time: 0.002076 seconds\n",
      "Strassen's Algorithm Time: 19.134904 seconds\n",
      "\n"
     ]
    }
   ],
   "source": [
    "# Let's generate the sizes for matrices\n",
    "sizes = [2**i for i in range(1, 9)]\n",
    "strassen_times = []\n",
    "numpy_times = []\n",
    "\n",
    "# Now let's test for the matrices of increasing size\n",
    "for size in sizes:\n",
    "    A = np.random.rand(size, size)\n",
    "    B = np.random.rand(size, size)\n",
    "\n",
    "    # And, time the numpy matrix multiplication (question 1)\n",
    "    numpy_time = timeit.timeit(lambda: multiply_matrices(A, B), number=1)\n",
    "    numpy_times.append(numpy_time)\n",
    "    \n",
    "    # And also, time Strassen's algorithm (question 2 and 3)\n",
    "    strassen_time = timeit.timeit(lambda: strassen_multiply(A, B), number=1)\n",
    "    strassen_times.append(strassen_time)\n",
    "    \n",
    "    # And, print the results\n",
    "    print(f\"Matrix Size: {size} x {size}\")\n",
    "    print(f\"NumPy Multiplication Time: {numpy_time:.6f} seconds\")\n",
    "    print(f\"Strassen's Algorithm Time: {strassen_time:.6f} seconds\")\n",
    "    print()"
   ]
  },
  {
   "cell_type": "code",
   "execution_count": 8,
   "id": "3719a81a-d9e9-451f-97e8-a494c69cf212",
   "metadata": {},
   "outputs": [
    {
     "data": {
      "image/png": "[encoded data removed]",
      "text/plain": [
       "<Figure size 1000x500 with 1 Axes>"
      ]
     },
     "metadata": {},
     "output_type": "display_data"
    }
   ],
   "source": [
    "# Now, let's plot and check the results\n",
    "plt.figure(figsize=(10, 5))\n",
    "plt.plot(sizes, strassen_times, label=\"Strassen's Algorithm\", marker='o')\n",
    "plt.plot(sizes, numpy_times, label='Numpy Multiplication', marker='x')\n",
    "plt.xlabel('Matrix Size (n x n)')\n",
    "plt.ylabel('Time (seconds)')\n",
    "plt.title('Runtime Comparison of Matrix Multiplication Algorithms')\n",
    "plt.legend()\n",
    "\n",
    "plt.xscale('log', base=2)\n",
    "plt.yscale('log')\n",
    "ax = plt.gca()\n",
    "deg = 5\n",
    "ax.set_yscale(\n",
    "    'function',\n",
    "    functions=(\n",
    "        lambda x: np.power(x, 1/deg),\n",
    "        lambda x: np.power(x, deg)\n",
    "    )\n",
    ")\n",
    "plt.grid(True)\n",
    "plt.show()"
   ]
  },
  {
   "cell_type": "markdown",
   "id": "b8850e8c-5746-4140-9a24-42fdaf2545ce",
   "metadata": {},
   "source": [
    "**Interpretation:** For small matrix sizes (2 x 2), Strassen's algorithm performs better than NumPy's matrix multiplication. However, as the matrix size increases, the time taken by Strassen's algorithm increases sharply. This is because of the fact that Strassen's algorithm has a higher computational complexity $(O(n^{log_2 7}))$. Therefore, we can say that for matrix sizes beyond (64 x 64), NumPy's matrix multiplication is faster than Strassen's algorithm."
   ]
  },
  {
   "cell_type": "markdown",
   "id": "f0b1dfea-586d-4bb1-bd06-dd9ccfb9bcd4",
   "metadata": {},
   "source": [
    "*Note to the Prof: I used Stackoverflow and ChatGPT to understand and improve some parts of the code chunks in Question 3, 4 and 5.*"
   ]
  },
  {
   "cell_type": "code",
   "execution_count": null,
   "id": "f252e84a-03ed-4f3b-a762-6ea0fd74c012",
   "metadata": {},
   "outputs": [],
   "source": []
  }
 ],
 "metadata": {
  "kernelspec": {
   "display_name": "Python 3 (ipykernel)",
   "language": "python",
   "name": "python3"
  },
  "language_info": {
   "codemirror_mode": {
    "name": "ipython",
    "version": 3
   },
   "file_extension": ".py",
   "mimetype": "text/x-python",
   "name": "python",
   "nbconvert_exporter": "python",
   "pygments_lexer": "ipython3",
   "version": "3.12.1"
  }
 },
 "nbformat": 4,
 "nbformat_minor": 5
}
